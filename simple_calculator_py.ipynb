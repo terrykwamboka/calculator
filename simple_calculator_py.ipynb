{
  "nbformat": 4,
  "nbformat_minor": 0,
  "metadata": {
    "colab": {
      "provenance": []
    },
    "kernelspec": {
      "name": "python3",
      "display_name": "Python 3"
    },
    "language_info": {
      "name": "python"
    }
  },
  "cells": [
    {
      "cell_type": "code",
      "execution_count": null,
      "metadata": {
        "id": "Mk13yekh6geJ"
      },
      "outputs": [],
      "source": [
        "def calculator():\n",
        "    # Get user input\n",
        "    num1 = float(input(\"Enter the first number: \"))\n",
        "    num2 = float(input(\"Enter the second number: \"))\n",
        "    operation = input(\"Enter the operation (+, -, *, /): \").strip()\n",
        "\n",
        "    # Perform the calculation\n",
        "    if operation == '+':\n",
        "        result = num1 + num2\n",
        "    elif operation == '-':\n",
        "        result = num1 - num2\n",
        "    elif operation == '*':\n",
        "        result = num1 * num2\n",
        "    elif operation == '/':\n",
        "        if num2 == 0:\n",
        "            print(\"Error: Division by zero is not allowed!\")\n",
        "            return\n",
        "        result = num1 / num2\n",
        "    else:\n",
        "        print(\"Error: Invalid operation! Please use +, -, *, or /\")\n",
        "        return\n",
        "\n",
        "    # Display the result\n",
        "    print(f\"{num1} {operation} {num2} = {result}\")\n",
        "\n",
        "# Run the calculator\n",
        "calculator()"
      ]
    }
  ]
}